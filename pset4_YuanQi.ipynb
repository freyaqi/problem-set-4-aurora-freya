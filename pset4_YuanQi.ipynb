{
 "cells": [
  {
   "cell_type": "markdown",
   "metadata": {},
   "source": [
    "Connected to Python 3.12.7"
   ]
  },
  {
   "cell_type": "code",
   "execution_count": null,
   "id": "7cfaf961-1322-44f3-9361-e44f729385eb",
   "metadata": {
    "vscode": {
     "languageId": "quarto"
    }
   },
   "outputs": [
    {
     "ename": "SyntaxError",
     "evalue": "(unicode error) 'unicodeescape' codec can't decode bytes in position 2-3: truncated \\UXXXXXXXX escape (<ipython-input-1-45c56e1849fe>, line 2)",
     "output_type": "error",
     "traceback": [
      "\u001b[1;36m  Cell \u001b[1;32mIn[1], line 2\u001b[1;36m\u001b[0m\n\u001b[1;33m    file_path = 'C:\\Users\\freya\\Desktop\\24 fall study\\Python2\\Pset4\\pos2016.csv'\u001b[0m\n\u001b[1;37m                ^\u001b[0m\n\u001b[1;31mSyntaxError\u001b[0m\u001b[1;31m:\u001b[0m (unicode error) 'unicodeescape' codec can't decode bytes in position 2-3: truncated \\UXXXXXXXX escape\n"
     ]
    }
   ],
   "source": [
    "# Load the re-uploaded CSV file to inspect and filter based on the specified criteria\n",
    "file_path = 'C:\\Users\\freya\\Desktop\\24 fall study\\Python2\\Pset4\\pos2016.csv'\n",
    "pos2016_data = pd.read_csv(file_path)\n",
    "\n",
    "# Display the first few rows to understand its structure and confirm the presence of relevant columns\n",
    "pos2016_data.head()"
   ]
  },
  {
   "cell_type": "code",
   "execution_count": null,
   "id": "448f2bf6-4d68-4f5c-8402-b95ec3e81437",
   "metadata": {
    "vscode": {
     "languageId": "quarto"
    }
   },
   "outputs": [
    {
     "ename": "NameError",
     "evalue": "name 'pd' is not defined",
     "output_type": "error",
     "traceback": [
      "\u001b[1;31m---------------------------------------------------------------------------\u001b[0m",
      "\u001b[1;31mNameError\u001b[0m                                 Traceback (most recent call last)",
      "File \u001b[1;32mc:\\Users\\freya\\Documents\\GitHub\\problem-set-4-aurora-freya\\pset4_template.qmd:3\u001b[0m\n\u001b[0;32m      1\u001b[0m \u001b[39m# Load the re-uploaded CSV file to inspect and filter based on the specified criteria\u001b[39;00m\n\u001b[0;32m      2\u001b[0m file_path \u001b[39m=\u001b[39m \u001b[39mr\u001b[39m\u001b[39m'\u001b[39m\u001b[39mC:\u001b[39m\u001b[39m\\\u001b[39m\u001b[39mUsers\u001b[39m\u001b[39m\\\u001b[39m\u001b[39mfreya\u001b[39m\u001b[39m\\\u001b[39m\u001b[39mDesktop\u001b[39m\u001b[39m\\\u001b[39m\u001b[39m24 fall study\u001b[39m\u001b[39m\\\u001b[39m\u001b[39mPython2\u001b[39m\u001b[39m\\\u001b[39m\u001b[39mPset4\u001b[39m\u001b[39m\\\u001b[39m\u001b[39mpos2016.csv\u001b[39m\u001b[39m'\u001b[39m\n\u001b[1;32m----> 3\u001b[0m pos2016_data \u001b[39m=\u001b[39m pd\u001b[39m.\u001b[39mread_csv(file_path)\n\u001b[0;32m      5\u001b[0m \u001b[39m# Display the first few rows to understand its structure and confirm the presence of relevant columns\u001b[39;00m\n\u001b[0;32m      6\u001b[0m pos2016_data\u001b[39m.\u001b[39mhead()\n",
      "\u001b[1;31mNameError\u001b[0m: name 'pd' is not defined"
     ]
    }
   ],
   "source": [
    "# Load the re-uploaded CSV file to inspect and filter based on the specified criteria\n",
    "file_path = r'C:\\Users\\freya\\Desktop\\24 fall study\\Python2\\Pset4\\pos2016.csv'\n",
    "pos2016_data = pd.read_csv(file_path)\n",
    "\n",
    "# Display the first few rows to understand its structure and confirm the presence of relevant columns\n",
    "pos2016_data.head()"
   ]
  },
  {
   "cell_type": "code",
   "execution_count": null,
   "id": "f63d3e65-36a8-4e72-884d-4c568c05f7e9",
   "metadata": {
    "vscode": {
     "languageId": "quarto"
    }
   },
   "outputs": [],
   "source": [
    "# SEtup\n",
    "import pandas as pd"
   ]
  },
  {
   "cell_type": "code",
   "execution_count": null,
   "id": "cfe65081-8302-402e-bebf-c04abbd815e3",
   "metadata": {
    "vscode": {
     "languageId": "quarto"
    }
   },
   "outputs": [
    {
     "data": {
      "text/html": [
       "<div>\n",
       "<style scoped>\n",
       "    .dataframe tbody tr th:only-of-type {\n",
       "        vertical-align: middle;\n",
       "    }\n",
       "\n",
       "    .dataframe tbody tr th {\n",
       "        vertical-align: top;\n",
       "    }\n",
       "\n",
       "    .dataframe thead th {\n",
       "        text-align: right;\n",
       "    }\n",
       "</style>\n",
       "<table border=\"1\" class=\"dataframe\">\n",
       "  <thead>\n",
       "    <tr style=\"text-align: right;\">\n",
       "      <th></th>\n",
       "      <th>PRVDR_CTGRY_SBTYP_CD</th>\n",
       "      <th>PRVDR_CTGRY_CD</th>\n",
       "      <th>FAC_NAME</th>\n",
       "      <th>PRVDR_NUM</th>\n",
       "      <th>PGM_TRMNTN_CD</th>\n",
       "      <th>TRMNTN_EXPRTN_DT</th>\n",
       "      <th>ZIP_CD</th>\n",
       "    </tr>\n",
       "  </thead>\n",
       "  <tbody>\n",
       "    <tr>\n",
       "      <th>0</th>\n",
       "      <td>1</td>\n",
       "      <td>8</td>\n",
       "      <td>GREEN APPLE THERAPY</td>\n",
       "      <td>676704</td>\n",
       "      <td>1</td>\n",
       "      <td>20161231</td>\n",
       "      <td>76085</td>\n",
       "    </tr>\n",
       "    <tr>\n",
       "      <th>1</th>\n",
       "      <td>1</td>\n",
       "      <td>12</td>\n",
       "      <td>PLACER COUNTY MEDICAL CLINIC</td>\n",
       "      <td>553810</td>\n",
       "      <td>1</td>\n",
       "      <td>20161231</td>\n",
       "      <td>95603</td>\n",
       "    </tr>\n",
       "    <tr>\n",
       "      <th>2</th>\n",
       "      <td>1</td>\n",
       "      <td>21</td>\n",
       "      <td>UNIVERSITY OF WYOMING FAMILY MEDICINE PINE BLUFFS</td>\n",
       "      <td>531820</td>\n",
       "      <td>1</td>\n",
       "      <td>20161231</td>\n",
       "      <td>82082</td>\n",
       "    </tr>\n",
       "    <tr>\n",
       "      <th>3</th>\n",
       "      <td>1</td>\n",
       "      <td>12</td>\n",
       "      <td>PENINSULA CHILDRENS CLINIC INC</td>\n",
       "      <td>503876</td>\n",
       "      <td>1</td>\n",
       "      <td>20161231</td>\n",
       "      <td>98362</td>\n",
       "    </tr>\n",
       "    <tr>\n",
       "      <th>4</th>\n",
       "      <td>3</td>\n",
       "      <td>2</td>\n",
       "      <td>GOOD SAMARITAN SOCIETY - ARTHUR</td>\n",
       "      <td>355113</td>\n",
       "      <td>1</td>\n",
       "      <td>20161231</td>\n",
       "      <td>58006</td>\n",
       "    </tr>\n",
       "  </tbody>\n",
       "</table>\n",
       "</div>"
      ],
      "text/plain": [
       "   PRVDR_CTGRY_SBTYP_CD  PRVDR_CTGRY_CD  \\\n",
       "0                     1               8   \n",
       "1                     1              12   \n",
       "2                     1              21   \n",
       "3                     1              12   \n",
       "4                     3               2   \n",
       "\n",
       "                                            FAC_NAME PRVDR_NUM  PGM_TRMNTN_CD  \\\n",
       "0                                GREEN APPLE THERAPY    676704              1   \n",
       "1                       PLACER COUNTY MEDICAL CLINIC    553810              1   \n",
       "2  UNIVERSITY OF WYOMING FAMILY MEDICINE PINE BLUFFS    531820              1   \n",
       "3                     PENINSULA CHILDRENS CLINIC INC    503876              1   \n",
       "4                    GOOD SAMARITAN SOCIETY - ARTHUR    355113              1   \n",
       "\n",
       "   TRMNTN_EXPRTN_DT  ZIP_CD  \n",
       "0          20161231   76085  \n",
       "1          20161231   95603  \n",
       "2          20161231   82082  \n",
       "3          20161231   98362  \n",
       "4          20161231   58006  "
      ]
     },
     "execution_count": 4,
     "metadata": {},
     "output_type": "execute_result"
    }
   ],
   "source": [
    "# Load the re-uploaded CSV file to inspect and filter based on the specified criteria\n",
    "file_path = r'C:\\Users\\freya\\Desktop\\24 fall study\\Python2\\Pset4\\pos2016.csv'\n",
    "pos2016_data = pd.read_csv(file_path)\n",
    "\n",
    "# Display the first few rows to understand its structure and confirm the presence of relevant columns\n",
    "pos2016_data.head()"
   ]
  },
  {
   "cell_type": "code",
   "execution_count": null,
   "id": "935818d6-547f-42cc-a3d8-8181dbbd4262",
   "metadata": {
    "vscode": {
     "languageId": "quarto"
    }
   },
   "outputs": [
    {
     "name": "stdout",
     "output_type": "stream",
     "text": [
      "Unique short-term hospitals: 7245\n"
     ]
    }
   ],
   "source": [
    "# Load the re-uploaded CSV file to inspect and filter based on the specified criteria\n",
    "file_path = r'C:\\Users\\freya\\Desktop\\24 fall study\\Python2\\Pset4\\pos2016.csv'\n",
    "pos2016 = pd.read_csv(file_path)\n",
    "\n",
    "# Display the first few rows to understand its structure and confirm the presence of relevant columns\n",
    "pos2016.head()\n",
    "\n",
    "# Filter the shortterm hospitals\n",
    "short_term_hospitals = pos2016[\n",
    "    (pos2016['PRVDR_CTGRY_CD'] == 1) & (pos2016['PRVDR_CTGRY_SBTYP_CD'] == 1)\n",
    "]\n",
    "\n",
    "# Calculte the number of unique hospitals\n",
    "unique_hospital_count = short_term_hospitals['PRVDR_NUM'].nunique()\n",
    "print(\"Unique short-term hospitals:\", unique_hospital_count)"
   ]
  },
  {
   "cell_type": "code",
   "execution_count": null,
   "id": "6cdc7dee-c472-4a16-8071-35c9fda45341",
   "metadata": {
    "vscode": {
     "languageId": "quarto"
    }
   },
   "outputs": [
    {
     "ename": "SyntaxError",
     "evalue": "(unicode error) 'unicodeescape' codec can't decode bytes in position 2-3: truncated \\UXXXXXXXX escape (<ipython-input-6-16c79e6431bd>, line 1)",
     "output_type": "error",
     "traceback": [
      "\u001b[1;36m  Cell \u001b[1;32mIn[6], line 1\u001b[1;36m\u001b[0m\n\u001b[1;33m    pos2017 = pd.read_csv('C:\\Users\\freya\\Desktop\\24 fall study\\Python2\\Pset4\\pos2016.csv')\u001b[0m\n\u001b[1;37m                          ^\u001b[0m\n\u001b[1;31mSyntaxError\u001b[0m\u001b[1;31m:\u001b[0m (unicode error) 'unicodeescape' codec can't decode bytes in position 2-3: truncated \\UXXXXXXXX escape\n"
     ]
    }
   ],
   "source": [
    "pos2017 = pd.read_csv('C:\\Users\\freya\\Desktop\\24 fall study\\Python2\\Pset4\\pos2016.csv')"
   ]
  },
  {
   "cell_type": "code",
   "execution_count": null,
   "id": "4070b575-e039-4817-ba02-5796025b9c74",
   "metadata": {
    "vscode": {
     "languageId": "quarto"
    }
   },
   "outputs": [],
   "source": [
    "pos2017 = pd.read_csv(r'C:\\Users\\freya\\Desktop\\24 fall study\\Python2\\Pset4\\pos2016.csv')"
   ]
  },
  {
   "cell_type": "code",
   "execution_count": null,
   "id": "289595c1-271b-42ff-9ca5-dd0d481d7bbc",
   "metadata": {
    "vscode": {
     "languageId": "quarto"
    }
   },
   "outputs": [
    {
     "name": "stdout",
     "output_type": "stream",
     "text": [
      "Unique short-term hospitals in 2017: 7260\n",
      "Unique short-term hospitals in 2018: 7260\n",
      "Unique short-term hospitals in 2019: 7260\n"
     ]
    },
    {
     "ename": "NameError",
     "evalue": "name 'unique_2016' is not defined",
     "output_type": "error",
     "traceback": [
      "\u001b[1;31m---------------------------------------------------------------------------\u001b[0m",
      "\u001b[1;31mNameError\u001b[0m                                 Traceback (most recent call last)",
      "File \u001b[1;32mc:\\Users\\freya\\Documents\\GitHub\\problem-set-4-aurora-freya\\pset4_template.qmd:24\u001b[0m\n\u001b[0;32m     20\u001b[0m unique_2019 \u001b[39m=\u001b[39m count_unique_hospitals(pos2019, \u001b[39m2019\u001b[39m)\n\u001b[0;32m     22\u001b[0m \u001b[39m# Save all results in a distionary\u001b[39;00m\n\u001b[0;32m     23\u001b[0m unique_hospitals_by_year \u001b[39m=\u001b[39m {\n\u001b[1;32m---> 24\u001b[0m     \u001b[39m2016\u001b[39m: unique_2016,\n\u001b[0;32m     25\u001b[0m     \u001b[39m2017\u001b[39m: unique_2017,\n\u001b[0;32m     26\u001b[0m     \u001b[39m2018\u001b[39m: unique_2018,\n\u001b[0;32m     27\u001b[0m     \u001b[39m2019\u001b[39m: unique_2019\n\u001b[0;32m     28\u001b[0m }\n\u001b[0;32m     30\u001b[0m \u001b[39mprint\u001b[39m(\u001b[39m\"\u001b[39m\u001b[39mUnique short-term hospitals by year:\u001b[39m\u001b[39m\"\u001b[39m, unique_hospitals_by_year)\n",
      "\u001b[1;31mNameError\u001b[0m: name 'unique_2016' is not defined"
     ]
    }
   ],
   "source": [
    "# Import the dataset of 2017-2019\n",
    "pos2017 = pd.read_csv(r'C:\\Users\\freya\\Desktop\\24 fall study\\Python2\\Pset4\\pos2017.csv')\n",
    "pos2018 = pd.read_csv(r'C:\\Users\\freya\\Desktop\\24 fall study\\Python2\\Pset4\\pos2017.csv')\n",
    "pos2019 = pd.read_csv(r'C:\\Users\\freya\\Desktop\\24 fall study\\Python2\\Pset4\\pos2017.csv')\n",
    "\n",
    "# Set a function to repeat the calculation for dataset pos2016.csv\n",
    "def count_unique_hospitals(data, year):\n",
    "    # Filter the short-term hospitals\n",
    "    short_term_hospitals = data[\n",
    "        (data['PRVDR_CTGRY_CD'] == 1) & (data['PRVDR_CTGRY_SBTYP_CD'] == 1)\n",
    "    ]\n",
    "    # Calculate the count of unique hospitals\n",
    "    unique_hospital_count = short_term_hospitals['PRVDR_NUM'].nunique()\n",
    "    print(f\"Unique short-term hospitals in {year}:\", unique_hospital_count)\n",
    "    return unique_hospital_count\n",
    "  \n",
    "# Return he result of the number of unique hospitals\n",
    "unique_2017 = count_unique_hospitals(pos2017, 2017)\n",
    "unique_2018 = count_unique_hospitals(pos2018, 2018)\n",
    "unique_2019 = count_unique_hospitals(pos2019, 2019)\n",
    "\n",
    "# Save all results in a distionary\n",
    "unique_hospitals_by_year = {\n",
    "    2016: unique_2016,\n",
    "    2017: unique_2017,\n",
    "    2018: unique_2018,\n",
    "    2019: unique_2019\n",
    "}\n",
    "\n",
    "print(\"Unique short-term hospitals by year:\", unique_hospitals_by_year)"
   ]
  },
  {
   "cell_type": "code",
   "execution_count": null,
   "id": "1c62c258-cf4c-4fd7-96b4-e9c0081d1848",
   "metadata": {
    "vscode": {
     "languageId": "quarto"
    }
   },
   "outputs": [
    {
     "name": "stdout",
     "output_type": "stream",
     "text": [
      "Unique short-term hospitals in 2016: 7245\n"
     ]
    }
   ],
   "source": [
    "# Load the re-uploaded CSV file to inspect and filter based on the specified criteria\n",
    "pos2016 = pd.read_csv(r'C:\\Users\\freya\\Desktop\\24 fall study\\Python2\\Pset4\\pos2016.csv')\n",
    "\n",
    "# Display the first few rows to understand its structure and confirm the presence of relevant columns\n",
    "pos2016.head()\n",
    "\n",
    "# Filter the shortterm hospitals\n",
    "short_term_hospitals_2016 = pos2016[\n",
    "    (pos2016['PRVDR_CTGRY_CD'] == 1) & (pos2016['PRVDR_CTGRY_SBTYP_CD'] == 1)\n",
    "]\n",
    "\n",
    "# Calculte the number of unique hospitals\n",
    "unique_2016 = short_term_hospitals_2016['PRVDR_NUM'].nunique()\n",
    "print(\"Unique short-term hospitals in 2016:\", unique_2016)"
   ]
  },
  {
   "cell_type": "code",
   "execution_count": null,
   "id": "2d9126ba-1522-42bb-ad61-1ca35d9fd7e9",
   "metadata": {
    "vscode": {
     "languageId": "quarto"
    }
   },
   "outputs": [
    {
     "name": "stdout",
     "output_type": "stream",
     "text": [
      "Unique short-term hospitals in 2017: 7260\n",
      "Unique short-term hospitals in 2018: 7260\n",
      "Unique short-term hospitals in 2019: 7260\n",
      "Unique short-term hospitals by year: {2016: 7245, 2017: 7260, 2018: 7260, 2019: 7260}\n"
     ]
    }
   ],
   "source": [
    "# Import the dataset of 2017-2019\n",
    "pos2017 = pd.read_csv(r'C:\\Users\\freya\\Desktop\\24 fall study\\Python2\\Pset4\\pos2017.csv')\n",
    "pos2018 = pd.read_csv(r'C:\\Users\\freya\\Desktop\\24 fall study\\Python2\\Pset4\\pos2017.csv')\n",
    "pos2019 = pd.read_csv(r'C:\\Users\\freya\\Desktop\\24 fall study\\Python2\\Pset4\\pos2017.csv')\n",
    "\n",
    "# Set a function to repeat the calculation for dataset pos2016.csv\n",
    "def count_unique_hospitals(data, year):\n",
    "    # Filter the short-term hospitals\n",
    "    short_term_hospitals = data[\n",
    "        (data['PRVDR_CTGRY_CD'] == 1) & (data['PRVDR_CTGRY_SBTYP_CD'] == 1)\n",
    "    ]\n",
    "    # Calculate the count of unique hospitals\n",
    "    unique_hospital_count = short_term_hospitals['PRVDR_NUM'].nunique()\n",
    "    print(f\"Unique short-term hospitals in {year}:\", unique_hospital_count)\n",
    "    return unique_hospital_count\n",
    "  \n",
    "# Return he result of the number of unique hospitals\n",
    "unique_2017 = count_unique_hospitals(pos2017, 2017)\n",
    "unique_2018 = count_unique_hospitals(pos2018, 2018)\n",
    "unique_2019 = count_unique_hospitals(pos2019, 2019)\n",
    "\n",
    "# Save all results in a distionary\n",
    "unique_hospitals_by_year = {\n",
    "    2016: unique_2016,\n",
    "    2017: unique_2017,\n",
    "    2018: unique_2018,\n",
    "    2019: unique_2019\n",
    "}\n",
    "\n",
    "print(\"Unique short-term hospitals by year:\", unique_hospitals_by_year)"
   ]
  }
 ],
 "metadata": {
  "kernelspec": {
   "display_name": "Python 3",
   "language": "python",
   "name": "python3"
  },
  "language_info": {
   "name": "python",
   "version": "3.12.7"
  }
 },
 "nbformat": 4,
 "nbformat_minor": 2
}
